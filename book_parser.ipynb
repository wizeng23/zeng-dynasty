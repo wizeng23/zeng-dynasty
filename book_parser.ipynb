{
 "cells": [
  {
   "cell_type": "markdown",
   "id": "d9e5c060",
   "metadata": {},
   "source": [
    "Main notebook :3"
   ]
  },
  {
   "cell_type": "code",
   "execution_count": 1,
   "id": "0703f7af",
   "metadata": {},
   "outputs": [],
   "source": [
    "import collections\n",
    "\n",
    "from PIL import Image\n",
    "import numpy as np"
   ]
  },
  {
   "cell_type": "code",
   "execution_count": 2,
   "id": "4795368e",
   "metadata": {},
   "outputs": [],
   "source": [
    "def get_image(filepath):\n",
    "    image = Image.open(filepath)\n",
    "    data = np.asarray(image)\n",
    "    # filters out red color, and turns into binary array\n",
    "    return (data[:,:,0] > 150).astype(np.uint8)"
   ]
  },
  {
   "cell_type": "code",
   "execution_count": 3,
   "id": "df990b15",
   "metadata": {},
   "outputs": [],
   "source": [
    "def show_image(grid):\n",
    "    # Given a binary grid, show the image\n",
    "    grid = grid * 255\n",
    "    # grid = 255 - grid\n",
    "    out = Image.fromarray(np.uint8(grid))\n",
    "    out.show()"
   ]
  },
  {
   "cell_type": "code",
   "execution_count": 14,
   "id": "c6801568",
   "metadata": {},
   "outputs": [],
   "source": [
    "def get_corners(grid, start_i, start_j):\n",
    "  \"\"\"Returns the coordinates of the corners of the page (tl, tr, br, bl).\"\"\"\n",
    "  rows, cols = grid.shape\n",
    "  queue = collections.deque()\n",
    "  queue.append((start_i, start_j))\n",
    "\n",
    "  visited = np.zeros([rows, cols])\n",
    "\n",
    "  tl, tr, br, bl = (start_i, start_j), (start_i, start_j), (start_i, start_j), (start_i, start_j)\n",
    "\n",
    "  while queue:\n",
    "    i, j = queue.popleft()\n",
    "    if i < 0 or i >= rows or j < 0 or j >= cols:\n",
    "      continue\n",
    "    if visited[i][j]:\n",
    "      continue\n",
    "    if grid[i][j]:\n",
    "      continue\n",
    "    visited[i][j] = 1\n",
    "\n",
    "    if -i - j > -tl[0] - tl[1]:\n",
    "      tl = i, j\n",
    "    if -i + j > -tr[0] + tr[1]:\n",
    "      tr = i, j\n",
    "    if i - j > bl[0] - bl[1]:\n",
    "      bl = i, j\n",
    "    if i + j > br[0] + br[1]:\n",
    "      br = i, j\n",
    "\n",
    "    queue.append((i + 1, j))\n",
    "    queue.append((i - 1, j))\n",
    "    queue.append((i, j + 1))\n",
    "    queue.append((i, j - 1))\n",
    "\n",
    "  return tl, tr, br, bl"
   ]
  },
  {
   "cell_type": "code",
   "execution_count": 15,
   "id": "72b9bf44",
   "metadata": {},
   "outputs": [],
   "source": [
    "import cv2\n",
    "def normalize_page(grid, page_corners, width=1300, height=1950):\n",
    "    tl, tr, br, bl = page_corners\n",
    "    tlp = [tl[1], tl[0]]\n",
    "    trp = [tr[1], tr[0]]\n",
    "    brp = [br[1], br[0]]\n",
    "    blp = [bl[1], bl[0]]\n",
    "    src_pts = np.float32([tlp, trp, brp, blp])\n",
    "    dst_pts = np.float32([\n",
    "        [0, 0], # top-left\n",
    "        [width-1, 0], # top-right\n",
    "        [width-1, height-1], # bottom-right\n",
    "        [0, height-1], # bottom-left\n",
    "    ])\n",
    "\n",
    "    M = cv2.getPerspectiveTransform(src_pts, dst_pts)\n",
    "    return cv2.warpPerspective(grid, M, (width, height))"
   ]
  },
  {
   "cell_type": "code",
   "execution_count": 16,
   "id": "9d4a8846",
   "metadata": {},
   "outputs": [
    {
     "name": "stdout",
     "output_type": "stream",
     "text": [
      "i: 4\n",
      "right_page_corners ((127, 1909), (110, 3182), (2043, 3199), (2059, 1927))\n",
      "saved to book1/pages/page_-1.png\n",
      "left_page_corners ((133, 425), (147, 1705), (2089, 1682), (2079, 402))\n",
      "saved to book1/pages/page_0.png\n",
      "i: 5\n"
     ]
    },
    {
     "name": "stderr",
     "output_type": "stream",
     "text": [
      "/var/folders/fm/8vxf9c7s51qdzzm18crswwmm0000gn/T/ipykernel_3039/4071044532.py:16: DeprecationWarning: 'mode' parameter is deprecated and will be removed in Pillow 13 (2026-10-15)\n",
      "  img = Image.fromarray(right_page * 255, mode='L')\n",
      "/var/folders/fm/8vxf9c7s51qdzzm18crswwmm0000gn/T/ipykernel_3039/4071044532.py:28: DeprecationWarning: 'mode' parameter is deprecated and will be removed in Pillow 13 (2026-10-15)\n",
      "  img = Image.fromarray(left_page * 255, mode='L')\n"
     ]
    },
    {
     "name": "stdout",
     "output_type": "stream",
     "text": [
      "right_page_corners ((131, 1915), (110, 3190), (2039, 3213), (2060, 1939))\n",
      "saved to book1/pages/page_1.png\n",
      "left_page_corners ((128, 441), (141, 1721), (2080, 1697), (2069, 416))\n",
      "saved to book1/pages/page_2.png\n",
      "i: 6\n",
      "right_page_corners ((128, 1897), (107, 3170), (2046, 3194), (2065, 1922))\n",
      "saved to book1/pages/page_3.png\n",
      "left_page_corners ((126, 427), (137, 1707), (2073, 1688), (2064, 405))\n",
      "saved to book1/pages/page_4.png\n",
      "i: 7\n",
      "right_page_corners ((124, 1903), (103, 3175), (2041, 3199), (2060, 1926))\n",
      "saved to book1/pages/page_5.png\n",
      "left_page_corners ((127, 436), (138, 1716), (2072, 1696), (2062, 414))\n",
      "saved to book1/pages/page_6.png\n",
      "i: 8\n",
      "right_page_corners ((132, 1890), (112, 3163), (2047, 3185), (2065, 1912))\n",
      "saved to book1/pages/page_7.png\n",
      "left_page_corners ((128, 423), (142, 1704), (2081, 1682), (2070, 401))\n",
      "saved to book1/pages/page_8.png\n",
      "i: 9\n",
      "right_page_corners ((126, 1898), (105, 3173), (2036, 3194), (2054, 1919))\n",
      "saved to book1/pages/page_9.png\n",
      "left_page_corners ((133, 433), (142, 1713), (2083, 1696), (2077, 416))\n",
      "saved to book1/pages/page_10.png\n",
      "i: 10\n",
      "right_page_corners ((127, 1893), (109, 3166), (2044, 3186), (2058, 1912))\n",
      "saved to book1/pages/page_11.png\n",
      "left_page_corners ((134, 426), (140, 1707), (2079, 1694), (2075, 413))\n",
      "saved to book1/pages/page_12.png\n",
      "i: 11\n",
      "right_page_corners ((119, 1894), (104, 3167), (2043, 3183), (2055, 1909))\n",
      "saved to book1/pages/page_13.png\n",
      "left_page_corners ((130, 437), (141, 1717), (2076, 1698), (2067, 416))\n",
      "saved to book1/pages/page_14.png\n",
      "i: 12\n",
      "right_page_corners ((124, 1877), (103, 3151), (2043, 3173), (2060, 1899))\n",
      "saved to book1/pages/page_15.png\n",
      "left_page_corners ((221, 428), (225, 1701), (2105, 1697), (2105, 422))\n",
      "saved to book1/pages/page_16.png\n"
     ]
    }
   ],
   "source": [
    "PATH_TEMPLATE = 'book1/family-tree-{}.png'\n",
    "idx = -1\n",
    "for i in range(4, 13):\n",
    "    print(f'i: {i}')\n",
    "    filepath = PATH_TEMPLATE.format(f'{i:02d}')\n",
    "    grid = get_image(filepath)\n",
    "    rows, cols = grid.shape\n",
    "    # Find starting pixel of page border\n",
    "    i = int(rows / 2)\n",
    "    j = cols - 20\n",
    "    while grid[i][j] or grid[i][j-1] or grid[i][j-2] or grid[i][j-3]:\n",
    "        j -= 1\n",
    "    right_page_corners = get_corners(grid, i, j)\n",
    "    print('right_page_corners', right_page_corners)\n",
    "    right_page = normalize_page(grid, right_page_corners)\n",
    "    img = Image.fromarray(right_page * 255, mode='L')\n",
    "    img.save(f'book1/pages/page_{idx}.png')\n",
    "    print(f'saved to book1/pages/page_{idx}.png')\n",
    "    idx += 1\n",
    "\n",
    "    i = int(rows / 2)\n",
    "    j = 0\n",
    "    while grid[i][j] or grid[i][j+1] or grid[i][j+2] or grid[i][j+3]:\n",
    "        j += 1\n",
    "    left_page_corners = get_corners(grid, i, j)\n",
    "    print('left_page_corners', left_page_corners)\n",
    "    left_page = normalize_page(grid, left_page_corners)\n",
    "    img = Image.fromarray(left_page * 255, mode='L')\n",
    "    img.save(f'book1/pages/page_{idx}.png')\n",
    "    print(f'saved to book1/pages/page_{idx}.png')\n",
    "    idx += 1\n"
   ]
  },
  {
   "cell_type": "code",
   "execution_count": null,
   "id": "60bd7fac",
   "metadata": {},
   "outputs": [],
   "source": [
    "show_image(left_page)"
   ]
  },
  {
   "cell_type": "code",
   "execution_count": null,
   "id": "5dd85b76",
   "metadata": {},
   "outputs": [],
   "source": [
    "show_image(grid)"
   ]
  },
  {
   "cell_type": "markdown",
   "id": "a833c532",
   "metadata": {},
   "source": [
    "# attempt 2"
   ]
  },
  {
   "cell_type": "code",
   "execution_count": null,
   "id": "48ea2537",
   "metadata": {},
   "outputs": [],
   "source": [
    "img = cv2.imread(filepath, cv2.IMREAD_GRAYSCALE)\n",
    "\n",
    "# Optional blur to reduce noise\n",
    "blur = cv2.GaussianBlur(img, (5, 5), 0)\n",
    "\n",
    "# Binary inverse threshold — black border becomes white\n",
    "_, thresh = cv2.threshold(blur, 50, 255, cv2.THRESH_BINARY_INV)\n",
    "\n",
    "# Find contours\n",
    "contours, _ = cv2.findContours(thresh, cv2.RETR_EXTERNAL, cv2.CHAIN_APPROX_SIMPLE)\n",
    "\n",
    "# Sort contours by area (largest first)\n",
    "contours = sorted(contours, key=cv2.contourArea, reverse=True)"
   ]
  },
  {
   "cell_type": "code",
   "execution_count": null,
   "id": "8f33c479",
   "metadata": {},
   "outputs": [],
   "source": [
    "print(len(contours))"
   ]
  },
  {
   "cell_type": "code",
   "execution_count": null,
   "id": "9b53038d",
   "metadata": {},
   "outputs": [],
   "source": [
    "page_corners = []\n",
    "\n",
    "for cnt in contours[:2]:  # take top 2 (two pages)\n",
    "    # Approximate contour to polygon\n",
    "    peri = cv2.arcLength(cnt, True)\n",
    "    approx = cv2.approxPolyDP(cnt, 0.02 * peri, True)\n",
    "    print(approx)\n",
    "    print(len(approx))\n",
    "\n",
    "    if len(approx) == 4:\n",
    "        corners = approx.reshape(4, 2)\n",
    "        page_corners.append(corners)\n",
    "\n",
    "# Visualize results\n",
    "vis = cv2.cvtColor(img, cv2.COLOR_GRAY2BGR)\n",
    "for corners in page_corners:\n",
    "    for x, y in corners:\n",
    "        cv2.circle(vis, (int(x), int(y)), 10, (0, 0, 255), -1)\n",
    "\n",
    "cv2.imwrite(\"detected_corners.png\", vis)\n",
    "\n",
    "# Sort each corner set to TL, TR, BR, BL order\n",
    "def order_points(pts):\n",
    "    s = pts.sum(axis=1)\n",
    "    diff = np.diff(pts, axis=1)\n",
    "    tl = pts[np.argmin(s)]\n",
    "    br = pts[np.argmax(s)]\n",
    "    tr = pts[np.argmin(diff)]\n",
    "    bl = pts[np.argmax(diff)]\n",
    "    return np.array([tl, tr, br, bl], dtype=np.float32)\n",
    "\n",
    "ordered_pages = [order_points(c) for c in page_corners]\n",
    "\n",
    "for i, corners in enumerate(ordered_pages):\n",
    "    print(f\"Page {i+1} corners (TL, TR, BR, BL):\\n\", corners)"
   ]
  },
  {
   "cell_type": "code",
   "execution_count": null,
   "id": "60e7dd46",
   "metadata": {},
   "outputs": [],
   "source": [
    "print(ordered_pages)"
   ]
  },
  {
   "cell_type": "markdown",
   "id": "339690a9",
   "metadata": {},
   "source": [
    "# CSV Parser"
   ]
  },
  {
   "cell_type": "code",
   "execution_count": null,
   "id": "f9f067f1",
   "metadata": {},
   "outputs": [],
   "source": [
    "import pandas as pd\n",
    "\n",
    "# Read the CSV file into a DataFrame\n",
    "df = pd.read_csv('data/zeng_google_sheet.csv', keep_default_na=False)\n",
    "df['id'] = df['id'].astype(int)\n",
    "df['name_images'] = [[]] * len(df)\n",
    "df['generation'] = df['generation'].astype(int)\n",
    "df['parent'] = df['parent'].astype(int)\n",
    "df['children'] = df['children'].apply(lambda x: [int(child) for child in x.split(',')] if x else [])\n",
    "\n",
    "# Iterate through rows and set parent based on children relationships\n",
    "for _, row in df.iterrows():\n",
    "    # Get the current node's ID and its children\n",
    "    node_id = row['id']\n",
    "    children = row['children']\n",
    "    \n",
    "    # For each child, set its parent to the current node_id\n",
    "    for child_id in children:\n",
    "        df.loc[df['id'] == child_id, 'parent'] = node_id\n",
    "df"
   ]
  },
  {
   "cell_type": "code",
   "execution_count": null,
   "id": "f824ec9c",
   "metadata": {},
   "outputs": [],
   "source": [
    "# Export DataFrame to JSONL format\n",
    "df.to_json('data/book1.jsonl', orient='records', lines=True, force_ascii=False)"
   ]
  },
  {
   "cell_type": "code",
   "execution_count": null,
   "id": "4100e2c6",
   "metadata": {},
   "outputs": [],
   "source": [
    "import json\n",
    "\n",
    "with open('data/book1.jsonl', 'r') as f:\n",
    "    records = [json.loads(line) for line in f]\n",
    "    \n",
    "print(records[0])\n"
   ]
  }
 ],
 "metadata": {
  "kernelspec": {
   "display_name": "zeng",
   "language": "python",
   "name": "python3"
  },
  "language_info": {
   "codemirror_mode": {
    "name": "ipython",
    "version": 3
   },
   "file_extension": ".py",
   "mimetype": "text/x-python",
   "name": "python",
   "nbconvert_exporter": "python",
   "pygments_lexer": "ipython3",
   "version": "3.11.13"
  }
 },
 "nbformat": 4,
 "nbformat_minor": 5
}
